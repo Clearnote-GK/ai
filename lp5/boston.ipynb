{
  "nbformat": 4,
  "nbformat_minor": 0,
  "metadata": {
    "colab": {
      "provenance": []
    },
    "kernelspec": {
      "name": "python3",
      "display_name": "Python 3"
    },
    "language_info": {
      "name": "python"
    }
  },
  "cells": [
    {
      "cell_type": "code",
      "execution_count": 25,
      "metadata": {
        "id": "GwRBbbZfqJyq"
      },
      "outputs": [],
      "source": [
        "import numpy as np\n",
        "import pandas as pd\n",
        "import tensorflow as tf\n",
        "from sklearn.model_selection import train_test_split\n",
        "from sklearn.preprocessing import StandardScaler\n",
        "from sklearn.metrics import r2_score"
      ]
    },
    {
      "cell_type": "code",
      "source": [
        "import pandas as pd\n",
        "import numpy as np\n",
        "\n",
        "data_url = \"http://lib.stat.cmu.edu/datasets/boston\"\n",
        "raw_df = pd.read_csv(data_url, sep=\"\\s+\", skiprows=22, header=None)\n",
        "data = np.hstack([raw_df.values[::2, :], raw_df.values[1::2, :2]])\n",
        "target = raw_df.values[1::2, 2]\n"
      ],
      "metadata": {
        "id": "4jtpEPL1qQpH"
      },
      "execution_count": 26,
      "outputs": []
    },
    {
      "cell_type": "code",
      "source": [
        "X_train, X_test, y_train, y_test = train_test_split(data, target, test_size=0.2, random_state=42)\n"
      ],
      "metadata": {
        "id": "cIk6EglFqSJo"
      },
      "execution_count": 15,
      "outputs": []
    },
    {
      "cell_type": "code",
      "source": [
        "scaler = StandardScaler()\n",
        "X_train_scaled = scaler.fit_transform(X_train)\n",
        "X_test_scaled = scaler.transform(X_test)"
      ],
      "metadata": {
        "id": "_lr26t0JqVJ5"
      },
      "execution_count": 16,
      "outputs": []
    },
    {
      "cell_type": "code",
      "source": [
        "model = tf.keras.Sequential([\n",
        "    tf.keras.layers.Dense(64, activation='relu', input_shape=(X_train_scaled.shape[1],)),\n",
        "    tf.keras.layers.Dense(64, activation='relu'),\n",
        "    tf.keras.layers.Dense(1)\n",
        "])"
      ],
      "metadata": {
        "id": "mhjlNbgPqYz7"
      },
      "execution_count": 17,
      "outputs": []
    },
    {
      "cell_type": "code",
      "source": [
        "model.compile(optimizer='adam', loss='mse', metrics=['mae'])\n"
      ],
      "metadata": {
        "id": "pB2JxmDbqa7o"
      },
      "execution_count": 18,
      "outputs": []
    },
    {
      "cell_type": "code",
      "source": [
        "model.fit(X_train_scaled, y_train, epochs=100, verbose=1)\n"
      ],
      "metadata": {
        "colab": {
          "base_uri": "https://localhost:8080/"
        },
        "id": "roHEv-2jqeGv",
        "outputId": "d0e3b77a-44ac-418d-9e25-50ad3ea09d80"
      },
      "execution_count": 19,
      "outputs": [
        {
          "output_type": "stream",
          "name": "stdout",
          "text": [
            "Epoch 1/100\n",
            "13/13 [==============================] - 2s 10ms/step - loss: 541.7311 - mae: 21.3200\n",
            "Epoch 2/100\n",
            "13/13 [==============================] - 0s 7ms/step - loss: 457.9483 - mae: 19.4270\n",
            "Epoch 3/100\n",
            "13/13 [==============================] - 0s 6ms/step - loss: 355.0126 - mae: 16.8126\n",
            "Epoch 4/100\n",
            "13/13 [==============================] - 0s 7ms/step - loss: 239.9972 - mae: 13.4254\n",
            "Epoch 5/100\n",
            "13/13 [==============================] - 0s 7ms/step - loss: 143.1884 - mae: 9.8011\n",
            "Epoch 6/100\n",
            "13/13 [==============================] - 0s 7ms/step - loss: 84.6798 - mae: 7.3601\n",
            "Epoch 7/100\n",
            "13/13 [==============================] - 0s 8ms/step - loss: 61.2097 - mae: 6.1594\n",
            "Epoch 8/100\n",
            "13/13 [==============================] - 0s 7ms/step - loss: 45.1867 - mae: 5.2339\n",
            "Epoch 9/100\n",
            "13/13 [==============================] - 0s 7ms/step - loss: 35.7385 - mae: 4.5644\n",
            "Epoch 10/100\n",
            "13/13 [==============================] - 0s 7ms/step - loss: 29.4073 - mae: 4.0388\n",
            "Epoch 11/100\n",
            "13/13 [==============================] - 0s 8ms/step - loss: 26.3185 - mae: 3.7836\n",
            "Epoch 12/100\n",
            "13/13 [==============================] - 0s 16ms/step - loss: 23.8298 - mae: 3.5869\n",
            "Epoch 13/100\n",
            "13/13 [==============================] - 0s 10ms/step - loss: 22.4088 - mae: 3.4659\n",
            "Epoch 14/100\n",
            "13/13 [==============================] - 0s 7ms/step - loss: 21.0982 - mae: 3.3423\n",
            "Epoch 15/100\n",
            "13/13 [==============================] - 0s 6ms/step - loss: 20.0336 - mae: 3.2635\n",
            "Epoch 16/100\n",
            "13/13 [==============================] - 0s 4ms/step - loss: 19.2323 - mae: 3.1901\n",
            "Epoch 17/100\n",
            "13/13 [==============================] - 0s 5ms/step - loss: 18.3723 - mae: 3.1054\n",
            "Epoch 18/100\n",
            "13/13 [==============================] - 0s 4ms/step - loss: 17.7927 - mae: 3.0736\n",
            "Epoch 19/100\n",
            "13/13 [==============================] - 0s 4ms/step - loss: 17.2175 - mae: 3.0137\n",
            "Epoch 20/100\n",
            "13/13 [==============================] - 0s 5ms/step - loss: 16.7498 - mae: 2.9645\n",
            "Epoch 21/100\n",
            "13/13 [==============================] - 0s 6ms/step - loss: 16.2348 - mae: 2.9296\n",
            "Epoch 22/100\n",
            "13/13 [==============================] - 0s 5ms/step - loss: 15.7427 - mae: 2.8926\n",
            "Epoch 23/100\n",
            "13/13 [==============================] - 0s 6ms/step - loss: 15.3828 - mae: 2.8602\n",
            "Epoch 24/100\n",
            "13/13 [==============================] - 0s 4ms/step - loss: 14.9955 - mae: 2.8189\n",
            "Epoch 25/100\n",
            "13/13 [==============================] - 0s 4ms/step - loss: 14.6714 - mae: 2.7994\n",
            "Epoch 26/100\n",
            "13/13 [==============================] - 0s 4ms/step - loss: 14.4288 - mae: 2.7819\n",
            "Epoch 27/100\n",
            "13/13 [==============================] - 0s 5ms/step - loss: 14.0884 - mae: 2.7398\n",
            "Epoch 28/100\n",
            "13/13 [==============================] - 0s 6ms/step - loss: 13.8496 - mae: 2.7209\n",
            "Epoch 29/100\n",
            "13/13 [==============================] - 0s 5ms/step - loss: 13.6054 - mae: 2.7014\n",
            "Epoch 30/100\n",
            "13/13 [==============================] - 0s 5ms/step - loss: 13.3556 - mae: 2.6749\n",
            "Epoch 31/100\n",
            "13/13 [==============================] - 0s 5ms/step - loss: 13.2936 - mae: 2.6584\n",
            "Epoch 32/100\n",
            "13/13 [==============================] - 0s 6ms/step - loss: 13.0059 - mae: 2.6404\n",
            "Epoch 33/100\n",
            "13/13 [==============================] - 0s 4ms/step - loss: 12.8893 - mae: 2.6253\n",
            "Epoch 34/100\n",
            "13/13 [==============================] - 0s 4ms/step - loss: 12.5818 - mae: 2.5834\n",
            "Epoch 35/100\n",
            "13/13 [==============================] - 0s 3ms/step - loss: 12.4190 - mae: 2.5643\n",
            "Epoch 36/100\n",
            "13/13 [==============================] - 0s 3ms/step - loss: 12.2939 - mae: 2.5754\n",
            "Epoch 37/100\n",
            "13/13 [==============================] - 0s 3ms/step - loss: 12.1304 - mae: 2.5445\n",
            "Epoch 38/100\n",
            "13/13 [==============================] - 0s 3ms/step - loss: 12.0371 - mae: 2.5294\n",
            "Epoch 39/100\n",
            "13/13 [==============================] - 0s 3ms/step - loss: 11.7355 - mae: 2.4897\n",
            "Epoch 40/100\n",
            "13/13 [==============================] - 0s 3ms/step - loss: 11.6591 - mae: 2.4776\n",
            "Epoch 41/100\n",
            "13/13 [==============================] - 0s 3ms/step - loss: 11.5250 - mae: 2.4669\n",
            "Epoch 42/100\n",
            "13/13 [==============================] - 0s 3ms/step - loss: 11.3706 - mae: 2.4487\n",
            "Epoch 43/100\n",
            "13/13 [==============================] - 0s 3ms/step - loss: 11.2363 - mae: 2.4313\n",
            "Epoch 44/100\n",
            "13/13 [==============================] - 0s 3ms/step - loss: 11.1771 - mae: 2.4318\n",
            "Epoch 45/100\n",
            "13/13 [==============================] - 0s 3ms/step - loss: 10.9999 - mae: 2.4066\n",
            "Epoch 46/100\n",
            "13/13 [==============================] - 0s 4ms/step - loss: 10.8800 - mae: 2.3900\n",
            "Epoch 47/100\n",
            "13/13 [==============================] - 0s 3ms/step - loss: 10.7131 - mae: 2.3640\n",
            "Epoch 48/100\n",
            "13/13 [==============================] - 0s 3ms/step - loss: 10.7598 - mae: 2.3744\n",
            "Epoch 49/100\n",
            "13/13 [==============================] - 0s 3ms/step - loss: 10.5923 - mae: 2.3575\n",
            "Epoch 50/100\n",
            "13/13 [==============================] - 0s 3ms/step - loss: 10.5927 - mae: 2.3451\n",
            "Epoch 51/100\n",
            "13/13 [==============================] - 0s 3ms/step - loss: 10.2858 - mae: 2.3225\n",
            "Epoch 52/100\n",
            "13/13 [==============================] - 0s 3ms/step - loss: 10.2752 - mae: 2.3201\n",
            "Epoch 53/100\n",
            "13/13 [==============================] - 0s 4ms/step - loss: 10.1739 - mae: 2.3124\n",
            "Epoch 54/100\n",
            "13/13 [==============================] - 0s 4ms/step - loss: 10.1090 - mae: 2.2899\n",
            "Epoch 55/100\n",
            "13/13 [==============================] - 0s 3ms/step - loss: 10.0664 - mae: 2.2935\n",
            "Epoch 56/100\n",
            "13/13 [==============================] - 0s 5ms/step - loss: 10.0823 - mae: 2.2890\n",
            "Epoch 57/100\n",
            "13/13 [==============================] - 0s 4ms/step - loss: 9.8627 - mae: 2.2740\n",
            "Epoch 58/100\n",
            "13/13 [==============================] - 0s 3ms/step - loss: 9.7982 - mae: 2.2633\n",
            "Epoch 59/100\n",
            "13/13 [==============================] - 0s 4ms/step - loss: 9.6886 - mae: 2.2303\n",
            "Epoch 60/100\n",
            "13/13 [==============================] - 0s 3ms/step - loss: 9.6139 - mae: 2.2263\n",
            "Epoch 61/100\n",
            "13/13 [==============================] - 0s 4ms/step - loss: 9.5558 - mae: 2.2308\n",
            "Epoch 62/100\n",
            "13/13 [==============================] - 0s 4ms/step - loss: 9.4743 - mae: 2.2140\n",
            "Epoch 63/100\n",
            "13/13 [==============================] - 0s 4ms/step - loss: 9.4648 - mae: 2.2290\n",
            "Epoch 64/100\n",
            "13/13 [==============================] - 0s 4ms/step - loss: 9.2210 - mae: 2.1921\n",
            "Epoch 65/100\n",
            "13/13 [==============================] - 0s 4ms/step - loss: 9.1683 - mae: 2.1758\n",
            "Epoch 66/100\n",
            "13/13 [==============================] - 0s 3ms/step - loss: 9.1354 - mae: 2.1869\n",
            "Epoch 67/100\n",
            "13/13 [==============================] - 0s 3ms/step - loss: 9.0090 - mae: 2.1718\n",
            "Epoch 68/100\n",
            "13/13 [==============================] - 0s 3ms/step - loss: 8.9548 - mae: 2.1531\n",
            "Epoch 69/100\n",
            "13/13 [==============================] - 0s 4ms/step - loss: 8.9438 - mae: 2.1553\n",
            "Epoch 70/100\n",
            "13/13 [==============================] - 0s 4ms/step - loss: 8.7248 - mae: 2.1390\n",
            "Epoch 71/100\n",
            "13/13 [==============================] - 0s 5ms/step - loss: 8.7962 - mae: 2.1431\n",
            "Epoch 72/100\n",
            "13/13 [==============================] - 0s 3ms/step - loss: 8.6767 - mae: 2.1230\n",
            "Epoch 73/100\n",
            "13/13 [==============================] - 0s 4ms/step - loss: 8.5073 - mae: 2.1125\n",
            "Epoch 74/100\n",
            "13/13 [==============================] - 0s 6ms/step - loss: 8.5184 - mae: 2.1175\n",
            "Epoch 75/100\n",
            "13/13 [==============================] - 0s 4ms/step - loss: 8.4129 - mae: 2.1050\n",
            "Epoch 76/100\n",
            "13/13 [==============================] - 0s 8ms/step - loss: 8.3774 - mae: 2.0949\n",
            "Epoch 77/100\n",
            "13/13 [==============================] - 0s 6ms/step - loss: 8.3010 - mae: 2.0821\n",
            "Epoch 78/100\n",
            "13/13 [==============================] - 0s 6ms/step - loss: 8.2116 - mae: 2.0792\n",
            "Epoch 79/100\n",
            "13/13 [==============================] - 0s 6ms/step - loss: 8.1671 - mae: 2.0694\n",
            "Epoch 80/100\n",
            "13/13 [==============================] - 0s 8ms/step - loss: 8.1625 - mae: 2.0655\n",
            "Epoch 81/100\n",
            "13/13 [==============================] - 0s 15ms/step - loss: 8.1295 - mae: 2.0626\n",
            "Epoch 82/100\n",
            "13/13 [==============================] - 0s 9ms/step - loss: 7.9301 - mae: 2.0487\n",
            "Epoch 83/100\n",
            "13/13 [==============================] - 0s 7ms/step - loss: 7.9740 - mae: 2.0490\n",
            "Epoch 84/100\n",
            "13/13 [==============================] - 0s 4ms/step - loss: 7.8923 - mae: 2.0386\n",
            "Epoch 85/100\n",
            "13/13 [==============================] - 0s 10ms/step - loss: 7.7744 - mae: 2.0232\n",
            "Epoch 86/100\n",
            "13/13 [==============================] - 0s 7ms/step - loss: 7.7229 - mae: 2.0201\n",
            "Epoch 87/100\n",
            "13/13 [==============================] - 0s 5ms/step - loss: 7.7033 - mae: 2.0262\n",
            "Epoch 88/100\n",
            "13/13 [==============================] - 0s 5ms/step - loss: 7.6498 - mae: 2.0168\n",
            "Epoch 89/100\n",
            "13/13 [==============================] - 0s 5ms/step - loss: 7.5508 - mae: 1.9934\n",
            "Epoch 90/100\n",
            "13/13 [==============================] - 0s 4ms/step - loss: 7.4384 - mae: 1.9802\n",
            "Epoch 91/100\n",
            "13/13 [==============================] - 0s 5ms/step - loss: 7.4197 - mae: 1.9835\n",
            "Epoch 92/100\n",
            "13/13 [==============================] - 0s 6ms/step - loss: 7.3810 - mae: 1.9726\n",
            "Epoch 93/100\n",
            "13/13 [==============================] - 0s 5ms/step - loss: 7.2297 - mae: 1.9524\n",
            "Epoch 94/100\n",
            "13/13 [==============================] - 0s 7ms/step - loss: 7.2679 - mae: 1.9780\n",
            "Epoch 95/100\n",
            "13/13 [==============================] - 0s 6ms/step - loss: 7.1786 - mae: 1.9542\n",
            "Epoch 96/100\n",
            "13/13 [==============================] - 0s 4ms/step - loss: 7.0639 - mae: 1.9404\n",
            "Epoch 97/100\n",
            "13/13 [==============================] - 0s 6ms/step - loss: 7.0235 - mae: 1.9318\n",
            "Epoch 98/100\n",
            "13/13 [==============================] - 0s 6ms/step - loss: 7.0118 - mae: 1.9296\n",
            "Epoch 99/100\n",
            "13/13 [==============================] - 0s 5ms/step - loss: 6.8927 - mae: 1.9215\n",
            "Epoch 100/100\n",
            "13/13 [==============================] - 0s 5ms/step - loss: 6.9164 - mae: 1.9263\n"
          ]
        },
        {
          "output_type": "execute_result",
          "data": {
            "text/plain": [
              "<keras.src.callbacks.History at 0x787224993ca0>"
            ]
          },
          "metadata": {},
          "execution_count": 19
        }
      ]
    },
    {
      "cell_type": "code",
      "source": [
        "loss, mae = model.evaluate(X_test_scaled, y_test, verbose=0)\n",
        "print(f\"Mean Absolute Error: {mae}\")"
      ],
      "metadata": {
        "colab": {
          "base_uri": "https://localhost:8080/"
        },
        "id": "NuaUmrDTqhpF",
        "outputId": "a4bc2169-eec3-4554-bdb2-0bcf03a5cd80"
      },
      "execution_count": 20,
      "outputs": [
        {
          "output_type": "stream",
          "name": "stdout",
          "text": [
            "Mean Absolute Error: 2.3050053119659424\n"
          ]
        }
      ]
    },
    {
      "cell_type": "code",
      "source": [
        "y_pred = model.predict(X_test_scaled)\n",
        "r_squared = r2_score(y_test, y_pred)\n",
        "print(f\"R-squared: {round((r_squared)*100)} %\")\n"
      ],
      "metadata": {
        "colab": {
          "base_uri": "https://localhost:8080/"
        },
        "id": "rF7PD6F-qlZw",
        "outputId": "a8ccd121-d260-4366-e3ae-93b9b5c11fd2"
      },
      "execution_count": 21,
      "outputs": [
        {
          "output_type": "stream",
          "name": "stdout",
          "text": [
            "4/4 [==============================] - 0s 7ms/step\n",
            "R-squared: 84 %\n"
          ]
        }
      ]
    },
    {
      "cell_type": "code",
      "source": [
        "def predict_new_data(new_data):\n",
        "    new_data_scaled = scaler.transform(new_data)\n",
        "    predictions = model.predict(new_data_scaled)\n",
        "    return predictions\n",
        "\n",
        "new_data = np.array([[0.00632, 18.0, 2.31, 0, 0.538, 6.575, 65.2, 4.09, 1, 296.0, 15.3, 396.9, 4.98]])\n",
        "print(\"Predicted price:\", predict_new_data(new_data))"
      ],
      "metadata": {
        "colab": {
          "base_uri": "https://localhost:8080/"
        },
        "id": "8OvM_dSRqpsJ",
        "outputId": "f1bfeff4-d96e-4d68-ce7a-c93889cd2c2e"
      },
      "execution_count": 22,
      "outputs": [
        {
          "output_type": "stream",
          "name": "stdout",
          "text": [
            "1/1 [==============================] - 0s 111ms/step\n",
            "Predicted price: [[26.192366]]\n"
          ]
        }
      ]
    },
    {
      "cell_type": "code",
      "source": [
        "sns.histplot(data[\"Price\"])\n"
      ],
      "metadata": {
        "colab": {
          "base_uri": "https://localhost:8080/",
          "height": 547
        },
        "id": "qGZGlKjXqqNK",
        "outputId": "ba6fdf54-2494-46c1-f27a-bdc048fc255d"
      },
      "execution_count": 12,
      "outputs": [
        {
          "output_type": "error",
          "ename": "KeyError",
          "evalue": "'Price'",
          "traceback": [
            "\u001b[0;31m---------------------------------------------------------------------------\u001b[0m",
            "\u001b[0;31mKeyError\u001b[0m                                  Traceback (most recent call last)",
            "\u001b[0;32m/usr/local/lib/python3.10/dist-packages/pandas/core/indexes/base.py\u001b[0m in \u001b[0;36mget_loc\u001b[0;34m(self, key)\u001b[0m\n\u001b[1;32m   3652\u001b[0m         \u001b[0;32mtry\u001b[0m\u001b[0;34m:\u001b[0m\u001b[0;34m\u001b[0m\u001b[0;34m\u001b[0m\u001b[0m\n\u001b[0;32m-> 3653\u001b[0;31m             \u001b[0;32mreturn\u001b[0m \u001b[0mself\u001b[0m\u001b[0;34m.\u001b[0m\u001b[0m_engine\u001b[0m\u001b[0;34m.\u001b[0m\u001b[0mget_loc\u001b[0m\u001b[0;34m(\u001b[0m\u001b[0mcasted_key\u001b[0m\u001b[0;34m)\u001b[0m\u001b[0;34m\u001b[0m\u001b[0;34m\u001b[0m\u001b[0m\n\u001b[0m\u001b[1;32m   3654\u001b[0m         \u001b[0;32mexcept\u001b[0m \u001b[0mKeyError\u001b[0m \u001b[0;32mas\u001b[0m \u001b[0merr\u001b[0m\u001b[0;34m:\u001b[0m\u001b[0;34m\u001b[0m\u001b[0;34m\u001b[0m\u001b[0m\n",
            "\u001b[0;32m/usr/local/lib/python3.10/dist-packages/pandas/_libs/index.pyx\u001b[0m in \u001b[0;36mpandas._libs.index.IndexEngine.get_loc\u001b[0;34m()\u001b[0m\n",
            "\u001b[0;32m/usr/local/lib/python3.10/dist-packages/pandas/_libs/index.pyx\u001b[0m in \u001b[0;36mpandas._libs.index.IndexEngine.get_loc\u001b[0;34m()\u001b[0m\n",
            "\u001b[0;32mpandas/_libs/hashtable_class_helper.pxi\u001b[0m in \u001b[0;36mpandas._libs.hashtable.PyObjectHashTable.get_item\u001b[0;34m()\u001b[0m\n",
            "\u001b[0;32mpandas/_libs/hashtable_class_helper.pxi\u001b[0m in \u001b[0;36mpandas._libs.hashtable.PyObjectHashTable.get_item\u001b[0;34m()\u001b[0m\n",
            "\u001b[0;31mKeyError\u001b[0m: 'Price'",
            "\nThe above exception was the direct cause of the following exception:\n",
            "\u001b[0;31mKeyError\u001b[0m                                  Traceback (most recent call last)",
            "\u001b[0;32m<ipython-input-12-7e757478452d>\u001b[0m in \u001b[0;36m<cell line: 1>\u001b[0;34m()\u001b[0m\n\u001b[0;32m----> 1\u001b[0;31m \u001b[0msns\u001b[0m\u001b[0;34m.\u001b[0m\u001b[0mhistplot\u001b[0m\u001b[0;34m(\u001b[0m\u001b[0mdata\u001b[0m\u001b[0;34m[\u001b[0m\u001b[0;34m\"Price\"\u001b[0m\u001b[0;34m]\u001b[0m\u001b[0;34m)\u001b[0m\u001b[0;34m\u001b[0m\u001b[0;34m\u001b[0m\u001b[0m\n\u001b[0m",
            "\u001b[0;32m/usr/local/lib/python3.10/dist-packages/pandas/core/frame.py\u001b[0m in \u001b[0;36m__getitem__\u001b[0;34m(self, key)\u001b[0m\n\u001b[1;32m   3759\u001b[0m             \u001b[0;32mif\u001b[0m \u001b[0mself\u001b[0m\u001b[0;34m.\u001b[0m\u001b[0mcolumns\u001b[0m\u001b[0;34m.\u001b[0m\u001b[0mnlevels\u001b[0m \u001b[0;34m>\u001b[0m \u001b[0;36m1\u001b[0m\u001b[0;34m:\u001b[0m\u001b[0;34m\u001b[0m\u001b[0;34m\u001b[0m\u001b[0m\n\u001b[1;32m   3760\u001b[0m                 \u001b[0;32mreturn\u001b[0m \u001b[0mself\u001b[0m\u001b[0;34m.\u001b[0m\u001b[0m_getitem_multilevel\u001b[0m\u001b[0;34m(\u001b[0m\u001b[0mkey\u001b[0m\u001b[0;34m)\u001b[0m\u001b[0;34m\u001b[0m\u001b[0;34m\u001b[0m\u001b[0m\n\u001b[0;32m-> 3761\u001b[0;31m             \u001b[0mindexer\u001b[0m \u001b[0;34m=\u001b[0m \u001b[0mself\u001b[0m\u001b[0;34m.\u001b[0m\u001b[0mcolumns\u001b[0m\u001b[0;34m.\u001b[0m\u001b[0mget_loc\u001b[0m\u001b[0;34m(\u001b[0m\u001b[0mkey\u001b[0m\u001b[0;34m)\u001b[0m\u001b[0;34m\u001b[0m\u001b[0;34m\u001b[0m\u001b[0m\n\u001b[0m\u001b[1;32m   3762\u001b[0m             \u001b[0;32mif\u001b[0m \u001b[0mis_integer\u001b[0m\u001b[0;34m(\u001b[0m\u001b[0mindexer\u001b[0m\u001b[0;34m)\u001b[0m\u001b[0;34m:\u001b[0m\u001b[0;34m\u001b[0m\u001b[0;34m\u001b[0m\u001b[0m\n\u001b[1;32m   3763\u001b[0m                 \u001b[0mindexer\u001b[0m \u001b[0;34m=\u001b[0m \u001b[0;34m[\u001b[0m\u001b[0mindexer\u001b[0m\u001b[0;34m]\u001b[0m\u001b[0;34m\u001b[0m\u001b[0;34m\u001b[0m\u001b[0m\n",
            "\u001b[0;32m/usr/local/lib/python3.10/dist-packages/pandas/core/indexes/base.py\u001b[0m in \u001b[0;36mget_loc\u001b[0;34m(self, key)\u001b[0m\n\u001b[1;32m   3653\u001b[0m             \u001b[0;32mreturn\u001b[0m \u001b[0mself\u001b[0m\u001b[0;34m.\u001b[0m\u001b[0m_engine\u001b[0m\u001b[0;34m.\u001b[0m\u001b[0mget_loc\u001b[0m\u001b[0;34m(\u001b[0m\u001b[0mcasted_key\u001b[0m\u001b[0;34m)\u001b[0m\u001b[0;34m\u001b[0m\u001b[0;34m\u001b[0m\u001b[0m\n\u001b[1;32m   3654\u001b[0m         \u001b[0;32mexcept\u001b[0m \u001b[0mKeyError\u001b[0m \u001b[0;32mas\u001b[0m \u001b[0merr\u001b[0m\u001b[0;34m:\u001b[0m\u001b[0;34m\u001b[0m\u001b[0;34m\u001b[0m\u001b[0m\n\u001b[0;32m-> 3655\u001b[0;31m             \u001b[0;32mraise\u001b[0m \u001b[0mKeyError\u001b[0m\u001b[0;34m(\u001b[0m\u001b[0mkey\u001b[0m\u001b[0;34m)\u001b[0m \u001b[0;32mfrom\u001b[0m \u001b[0merr\u001b[0m\u001b[0;34m\u001b[0m\u001b[0;34m\u001b[0m\u001b[0m\n\u001b[0m\u001b[1;32m   3656\u001b[0m         \u001b[0;32mexcept\u001b[0m \u001b[0mTypeError\u001b[0m\u001b[0;34m:\u001b[0m\u001b[0;34m\u001b[0m\u001b[0;34m\u001b[0m\u001b[0m\n\u001b[1;32m   3657\u001b[0m             \u001b[0;31m# If we have a listlike key, _check_indexing_error will raise\u001b[0m\u001b[0;34m\u001b[0m\u001b[0;34m\u001b[0m\u001b[0m\n",
            "\u001b[0;31mKeyError\u001b[0m: 'Price'"
          ]
        }
      ]
    },
    {
      "cell_type": "code",
      "source": [],
      "metadata": {
        "id": "DAZHHMZcqs7k"
      },
      "execution_count": null,
      "outputs": []
    }
  ]
}