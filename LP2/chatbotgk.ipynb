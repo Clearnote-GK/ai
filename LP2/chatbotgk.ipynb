{
 "cells": [
  {
   "cell_type": "code",
   "execution_count": 43,
   "id": "782eb094",
   "metadata": {},
   "outputs": [
    {
     "name": "stdout",
     "output_type": "stream",
     "text": [
      "Welcome to Jio Mart Chatbot! How can I help you today?\n",
      "User: product\n",
      "Jio Mart Chatbot: We have wide range of products. What specific you are looking for?\n",
      "User: offers\n",
      "Jio Mart Chatbot: We have different offers on differnt products. Please visit our website for more details\n",
      "User: del\n",
      "Jio Mart Chatbot: I am sorry ,I couldn't understand your query.How can i help you?\n",
      "User: exit\n",
      "thank you for using our chatbot. Have a great day!\n"
     ]
    }
   ],
   "source": [
    "class JioMartChatbot:\n",
    "    def __init__(self):\n",
    "        self.name=\"Jio Mart Chatbot\"\n",
    "        \n",
    "    def get_response(self, user_query):\n",
    "        if \"product\" in user_query:\n",
    "            return\"We have wide range of products. What specific you are looking for?\"\n",
    "        elif\"offers\" in user_query:\n",
    "            return\"We have different offers on differnt products. Please visit our website for more details\"\n",
    "        elif\"delivery\" in user_query:\n",
    "            return\"We offer fast delivery services\"\n",
    "        elif\"payment\" in user_query:\n",
    "            return\"we accept multiple payment option including netbanking ,UPI and Cash on delivery\"\n",
    "        elif\"contact\" in user_query:\n",
    "            \n",
    "            return\"You can contact our consumer care at 1800-xxx-xxxx\"\n",
    "        else:\n",
    "            return\"I am sorry ,I couldn't understand your query.How can i help you?\"\n",
    "\n",
    "chatbot=JioMartChatbot()\n",
    "print(f\"Welcome to {chatbot.name}! How can I help you today?\")\n",
    "while True:\n",
    "      user_input=input(\"User: \")\n",
    "      if user_input.lower()==\"exit\":\n",
    "          print(\"thank you for using our chatbot. Have a great day!\")\n",
    "          break\n",
    "      response= chatbot.get_response(user_input.lower())\n",
    "      print(f\"{chatbot.name}: {response}\")\n",
    "       \n",
    "       \n",
    "\n",
    "\n",
    "    \n",
    "    "
   ]
  },
  {
   "cell_type": "code",
   "execution_count": null,
   "id": "2c8d9499",
   "metadata": {},
   "outputs": [],
   "source": []
  }
 ],
 "metadata": {
  "kernelspec": {
   "display_name": "Python 3 (ipykernel)",
   "language": "python",
   "name": "python3"
  },
  "language_info": {
   "codemirror_mode": {
    "name": "ipython",
    "version": 3
   },
   "file_extension": ".py",
   "mimetype": "text/x-python",
   "name": "python",
   "nbconvert_exporter": "python",
   "pygments_lexer": "ipython3",
   "version": "3.10.11"
  }
 },
 "nbformat": 4,
 "nbformat_minor": 5
}
