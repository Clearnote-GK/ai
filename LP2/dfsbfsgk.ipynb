{
 "cells": [
  {
   "cell_type": "code",
   "execution_count": 7,
   "id": "21e1e3c3",
   "metadata": {},
   "outputs": [
    {
     "name": "stdout",
     "output_type": "stream",
     "text": [
      "Enter No.Of Nodes : 6\n",
      "Enter NO. of edges for node 1:2\n",
      "Enter edge 1 for node 1:2\n",
      "Enter edge 2 for node 1:5\n",
      "Enter NO. of edges for node 2:3\n",
      "Enter edge 1 for node 2:1\n",
      "Enter edge 2 for node 2:3\n",
      "Enter edge 3 for node 2:4\n",
      "Enter NO. of edges for node 3:2\n",
      "Enter edge 1 for node 3:2\n",
      "Enter edge 2 for node 3:6\n",
      "Enter NO. of edges for node 4:1\n",
      "Enter edge 1 for node 4:2\n",
      "Enter NO. of edges for node 5:1\n",
      "Enter edge 1 for node 5:1\n",
      "Enter NO. of edges for node 6:1\n",
      "Enter edge 1 for node 6:3\n",
      "DFS: \n",
      "1 2 3 6 4 5 \n",
      "BFS: \n",
      "1 2 5 3 4 6 "
     ]
    }
   ],
   "source": [
    "def dfs(visited,graph,node):\n",
    "    if node not in visited:\n",
    "        print(node,end= \" \")\n",
    "        visited.add(node)\n",
    "        for neighbor in graph[node]:\n",
    "            dfs(visited,graph,neighbor)\n",
    "            \n",
    "            \n",
    "def bfs(visited,graph,node,queue):\n",
    "    visited.add(node)\n",
    "    queue.append(node)\n",
    "    \n",
    "    while queue:\n",
    "        s=queue.pop(0)\n",
    "        print(s,end=\" \")\n",
    "        for neighbor in graph[s]:\n",
    "            if neighbor not in visited:\n",
    "                visited.add(neighbor)\n",
    "                queue.append(neighbor)\n",
    "def main():\n",
    "    visited1=set()\n",
    "    visited2=set()\n",
    "    queue=[]\n",
    "    n=int(input(\"Enter No.Of Nodes : \"))\n",
    "    graph={}\n",
    "    \n",
    "    for i in range(1,n+1):\n",
    "        edges=int(input(\"Enter NO. of edges for node {}:\".format(i)))\n",
    "        graph[i]=[]\n",
    "        for j in range(1,edges+1):\n",
    "            node=int(input(\"Enter edge {} for node {}:\".format(j,i)))\n",
    "            graph[i].append(node)\n",
    "            \n",
    "    print(\"DFS: \")\n",
    "    dfs(visited1,graph,1)\n",
    "    print()\n",
    "    print(\"BFS: \")\n",
    "    bfs(visited2,graph,1,queue)\n",
    "\n",
    "if __name__ == \"__main__\":\n",
    "    main()\n",
    "    "
   ]
  },
  {
   "cell_type": "code",
   "execution_count": null,
   "id": "f2c02305",
   "metadata": {},
   "outputs": [],
   "source": []
  },
  {
   "cell_type": "code",
   "execution_count": null,
   "id": "74a33777",
   "metadata": {},
   "outputs": [],
   "source": []
  }
 ],
 "metadata": {
  "kernelspec": {
   "display_name": "Python 3 (ipykernel)",
   "language": "python",
   "name": "python3"
  },
  "language_info": {
   "codemirror_mode": {
    "name": "ipython",
    "version": 3
   },
   "file_extension": ".py",
   "mimetype": "text/x-python",
   "name": "python",
   "nbconvert_exporter": "python",
   "pygments_lexer": "ipython3",
   "version": "3.10.11"
  }
 },
 "nbformat": 4,
 "nbformat_minor": 5
}
